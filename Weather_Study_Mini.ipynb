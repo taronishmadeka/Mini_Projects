{
 "cells": [
  {
   "cell_type": "code",
   "execution_count": 1,
   "metadata": {},
   "outputs": [],
   "source": [
    "import pandas as pd\n",
    "import numpy as np\n",
    "import math\n",
    "import matplotlib.pyplot as plt\n",
    "from sklearn.metrics import accuracy_score\n",
    "from sklearn.model_selection import train_test_split\n",
    "from sklearn.tree import DecisionTreeClassifier\n",
    "from sklearn.model_selection import GridSearchCV\n",
    "from sklearn.ensemble import RandomForestClassifier\n",
    "from sklearn.svm import LinearSVC, SVC\n",
    "from sklearn.linear_model import LogisticRegression\n",
    "from sklearn.metrics import classification_report, confusion_matrix, accuracy_score, roc_auc_score, roc_curve, precision_score, recall_score, accuracy_score, f1_score\n",
    "%matplotlib inline"
   ]
  },
  {
   "cell_type": "code",
   "execution_count": 2,
   "metadata": {},
   "outputs": [],
   "source": [
    "data = pd.read_csv('daily_weather.csv')"
   ]
  },
  {
   "cell_type": "markdown",
   "metadata": {},
   "source": [
    "The following information was provided with the dataset:\n",
    "\n",
    "This data comes from a weather station located in San Diego, California. The weather station is equipped with sensors that capture weather-related measurements such as air temperature, air pressure, and relative humidity. Data was collected for a period of three years, from September 2011 to September 2014."
   ]
  },
  {
   "cell_type": "markdown",
   "metadata": {},
   "source": [
    "Since this dataset was created to classify low-humidity days vs. non-low-humidity days (days with normal or high humidity), the variables included are weather measurements taken in the morning and one measurement, relatively humidity,  taken in the afternoon.\n",
    "\n",
    "Each row, or sample, consists of the following variables:\n",
    "* **number:** unique identifier\n",
    "* **air_pressure_9am:** air pressure at 9am (*Unit: hectopascals*)\n",
    "* **air_temp_9am:** air temperature at 9am (*Unit: degrees Fahrenheit*)\n",
    "* **air_wind_direction_9am:** wind direction at 9am (*Unit: degrees, with 0 means coming from the North, and increasing clockwise*)\n",
    "* **air_wind_speed_9am:** wind speed at 9am (*Unit: miles per hour*)\n",
    "* **max_wind_direction_9am:** wind gust direction at 9am (*Unit: degrees, with 0 being North and increasing clockwise*)\n",
    "* **max_wind_speed_9am:** wind gust speed at 9am (*Unit: miles per hour*)\n",
    "* **rain_accumulation_9am:** amount of rain accumulated in the 24 hours prior to 9am (*Unit: millimeters*)\n",
    "* **rain_duration_9am:** amount of time rain was recorded in the 24 hours prior to 9am (*Unit: seconds*)\n",
    "* **relative_humidity_9am:** relative humidity at 9am (*Unit: percent*)\n",
    "* **relative_humidity_3pm:** relative humidity at 3pm (*Unit: percent*)"
   ]
  },
  {
   "cell_type": "code",
   "execution_count": 3,
   "metadata": {},
   "outputs": [
    {
     "data": {
      "text/plain": [
       "Index(['number', 'air_pressure_9am', 'air_temp_9am', 'avg_wind_direction_9am',\n",
       "       'avg_wind_speed_9am', 'max_wind_direction_9am', 'max_wind_speed_9am',\n",
       "       'rain_accumulation_9am', 'rain_duration_9am', 'relative_humidity_9am',\n",
       "       'relative_humidity_3pm'],\n",
       "      dtype='object')"
      ]
     },
     "execution_count": 3,
     "metadata": {},
     "output_type": "execute_result"
    }
   ],
   "source": [
    "data.columns"
   ]
  },
  {
   "cell_type": "code",
   "execution_count": 4,
   "metadata": {},
   "outputs": [
    {
     "data": {
      "text/html": [
       "<div>\n",
       "<style scoped>\n",
       "    .dataframe tbody tr th:only-of-type {\n",
       "        vertical-align: middle;\n",
       "    }\n",
       "\n",
       "    .dataframe tbody tr th {\n",
       "        vertical-align: top;\n",
       "    }\n",
       "\n",
       "    .dataframe thead th {\n",
       "        text-align: right;\n",
       "    }\n",
       "</style>\n",
       "<table border=\"1\" class=\"dataframe\">\n",
       "  <thead>\n",
       "    <tr style=\"text-align: right;\">\n",
       "      <th></th>\n",
       "      <th>air_pressure_9am</th>\n",
       "      <th>air_temp_9am</th>\n",
       "      <th>avg_wind_direction_9am</th>\n",
       "      <th>avg_wind_speed_9am</th>\n",
       "      <th>max_wind_direction_9am</th>\n",
       "      <th>max_wind_speed_9am</th>\n",
       "      <th>rain_accumulation_9am</th>\n",
       "      <th>rain_duration_9am</th>\n",
       "      <th>relative_humidity_9am</th>\n",
       "      <th>relative_humidity_3pm</th>\n",
       "    </tr>\n",
       "  </thead>\n",
       "  <tbody>\n",
       "    <tr>\n",
       "      <th>0</th>\n",
       "      <td>918.060000</td>\n",
       "      <td>74.822000</td>\n",
       "      <td>271.100000</td>\n",
       "      <td>2.080354</td>\n",
       "      <td>295.400000</td>\n",
       "      <td>2.863283</td>\n",
       "      <td>0.0</td>\n",
       "      <td>0.0</td>\n",
       "      <td>42.420000</td>\n",
       "      <td>36.160000</td>\n",
       "    </tr>\n",
       "    <tr>\n",
       "      <th>1</th>\n",
       "      <td>917.347688</td>\n",
       "      <td>71.403843</td>\n",
       "      <td>101.935179</td>\n",
       "      <td>2.443009</td>\n",
       "      <td>140.471548</td>\n",
       "      <td>3.533324</td>\n",
       "      <td>0.0</td>\n",
       "      <td>0.0</td>\n",
       "      <td>24.328697</td>\n",
       "      <td>19.426597</td>\n",
       "    </tr>\n",
       "    <tr>\n",
       "      <th>2</th>\n",
       "      <td>923.040000</td>\n",
       "      <td>60.638000</td>\n",
       "      <td>51.000000</td>\n",
       "      <td>17.067852</td>\n",
       "      <td>63.700000</td>\n",
       "      <td>22.100967</td>\n",
       "      <td>0.0</td>\n",
       "      <td>20.0</td>\n",
       "      <td>8.900000</td>\n",
       "      <td>14.460000</td>\n",
       "    </tr>\n",
       "    <tr>\n",
       "      <th>3</th>\n",
       "      <td>920.502751</td>\n",
       "      <td>70.138895</td>\n",
       "      <td>198.832133</td>\n",
       "      <td>4.337363</td>\n",
       "      <td>211.203341</td>\n",
       "      <td>5.190045</td>\n",
       "      <td>0.0</td>\n",
       "      <td>0.0</td>\n",
       "      <td>12.189102</td>\n",
       "      <td>12.742547</td>\n",
       "    </tr>\n",
       "    <tr>\n",
       "      <th>4</th>\n",
       "      <td>921.160000</td>\n",
       "      <td>44.294000</td>\n",
       "      <td>277.800000</td>\n",
       "      <td>1.856660</td>\n",
       "      <td>136.500000</td>\n",
       "      <td>2.863283</td>\n",
       "      <td>8.9</td>\n",
       "      <td>14730.0</td>\n",
       "      <td>92.410000</td>\n",
       "      <td>76.740000</td>\n",
       "    </tr>\n",
       "  </tbody>\n",
       "</table>\n",
       "</div>"
      ],
      "text/plain": [
       "   air_pressure_9am  air_temp_9am  avg_wind_direction_9am  avg_wind_speed_9am  \\\n",
       "0        918.060000     74.822000              271.100000            2.080354   \n",
       "1        917.347688     71.403843              101.935179            2.443009   \n",
       "2        923.040000     60.638000               51.000000           17.067852   \n",
       "3        920.502751     70.138895              198.832133            4.337363   \n",
       "4        921.160000     44.294000              277.800000            1.856660   \n",
       "\n",
       "   max_wind_direction_9am  max_wind_speed_9am  rain_accumulation_9am  \\\n",
       "0              295.400000            2.863283                    0.0   \n",
       "1              140.471548            3.533324                    0.0   \n",
       "2               63.700000           22.100967                    0.0   \n",
       "3              211.203341            5.190045                    0.0   \n",
       "4              136.500000            2.863283                    8.9   \n",
       "\n",
       "   rain_duration_9am  relative_humidity_9am  relative_humidity_3pm  \n",
       "0                0.0              42.420000              36.160000  \n",
       "1                0.0              24.328697              19.426597  \n",
       "2               20.0               8.900000              14.460000  \n",
       "3                0.0              12.189102              12.742547  \n",
       "4            14730.0              92.410000              76.740000  "
      ]
     },
     "execution_count": 4,
     "metadata": {},
     "output_type": "execute_result"
    }
   ],
   "source": [
    "del data['number']\n",
    "data = data.dropna()\n",
    "data.head()"
   ]
  },
  {
   "cell_type": "markdown",
   "metadata": {},
   "source": [
    "My goal in this mini project is to effectively predict relative humidity at 3pm using the features provided to me in the dataset. \n",
    "\n",
    "Before that, I wanted to understand a little more about what I'm trying to predict. With a little research, I learned that there is no threshold for 'high' relative humidity levels and that relative humidity is a poor metric to use when quantifying 'muginess'. Why? Simply put, **relative** humidity is **relative** to the temperature. The amount of moisture in air changes as the temperature changes. In other words, \"air that’s 85 degrees with 25 percent humidity contains twice as much moisture as 35-degree air with 75 percent humidity\" (Angela Fritz - Washington Post 2017). \n",
    "\n",
    "As temperature increases, the air particles (nitrogen, oxygen, etc) gain kinetic energy. When this occurs, the equilibrium between water in its liquid form and atmospheric water vapor is disturbed, resulting in a higher partial pressure of water vapor. To achieve equilibrium, more water molecules enter the vapor phase. In short, we shouldn't use relative humidity to quantify 'muginess'. Unfortunately, since we have a partial dataset and my aim is to practice classification techniques I'll use relative humidity for now. "
   ]
  },
  {
   "cell_type": "markdown",
   "metadata": {},
   "source": [
    "Here is a short function which converts the temperature and relative humidity into dew point. Dew point is the temperature at which water vapor in the air will begin condensing to form droplets. Dew point is a real indicator of **total** moisture levels in the air, regardless of the temperature. To improve this mini project, dew point is the indicator of 'muginess' which should be employed."
   ]
  },
  {
   "cell_type": "code",
   "execution_count": 5,
   "metadata": {},
   "outputs": [],
   "source": [
    "def calc_dewpoint(temp, rh):\n",
    "    a=17.62\n",
    "    b=243.12\n",
    "    #celsius = (temp - 32) * 5.0/9.0 - not necessary to convert to Celsius\n",
    "    alpha = math.log(rh/100) + ((a*temp)/(b+temp))\n",
    "    dew_point = (b*alpha)/(a-alpha)\n",
    "    return dew_point   "
   ]
  },
  {
   "cell_type": "code",
   "execution_count": 6,
   "metadata": {},
   "outputs": [
    {
     "data": {
      "text/plain": [
       "55.79671864537919"
      ]
     },
     "execution_count": 6,
     "metadata": {},
     "output_type": "execute_result"
    }
   ],
   "source": [
    "calc_dewpoint(74.822, 42.42)"
   ]
  },
  {
   "cell_type": "code",
   "execution_count": 7,
   "metadata": {},
   "outputs": [],
   "source": [
    "## Create labels for high and low humidity levels (0 for low and 1 for high)\n",
    "data['high_humidity'] = (data['relative_humidity_3pm']>54.99)*1"
   ]
  },
  {
   "cell_type": "code",
   "execution_count": 12,
   "metadata": {},
   "outputs": [
    {
     "name": "stdout",
     "output_type": "stream",
     "text": [
      "Our dataset includes 842 instances of low humidity at 3pm and 222 instances of high humidity at 3pm.\n"
     ]
    }
   ],
   "source": [
    "Y = data['high_humidity']\n",
    "humidity_label_counts = data['high_humidity'].value_counts()\n",
    "\n",
    "print('Our dataset includes ' + str(humidity_label_counts[0]) + ' instances of low humidity at 3pm and '\n",
    "      + str(humidity_label_counts[1]) + ' instances of high humidity at 3pm.')"
   ]
  },
  {
   "cell_type": "markdown",
   "metadata": {},
   "source": [
    "Here is the list of features we will be using for our modeling exercises. I'm leaving off relative humidity at 9am from my feature list. Relative humidity does not change drastically in the six hour period between readings. In other words, it closely related to our label and would greatly influence how our models learn. "
   ]
  },
  {
   "cell_type": "code",
   "execution_count": 13,
   "metadata": {},
   "outputs": [],
   "source": [
    "morning_features = ['air_pressure_9am', 'air_temp_9am', 'avg_wind_direction_9am',\n",
    "                    'avg_wind_speed_9am', 'max_wind_direction_9am', 'max_wind_speed_9am',\n",
    "                    'rain_accumulation_9am', 'rain_duration_9am']"
   ]
  },
  {
   "cell_type": "code",
   "execution_count": 14,
   "metadata": {},
   "outputs": [],
   "source": [
    "X = data[morning_features]"
   ]
  },
  {
   "cell_type": "code",
   "execution_count": 15,
   "metadata": {},
   "outputs": [],
   "source": [
    "X_train, X_test, y_train, y_test=train_test_split(X, Y)"
   ]
  },
  {
   "cell_type": "markdown",
   "metadata": {},
   "source": [
    "**Complete the following tasks**:\n",
    "\n",
    "- Train a logistic regression model (10 points)\n",
    "- Train a SVM model by tunning both C and gamma, report the best parameters (15 points)\n",
    "- Train a decision tree model by tuning the proper parameters, report the best parameters (15 points)\n",
    "- Use the same parameters to train a random forest model (10 points)\n",
    "- Compare all the above models' performance (10 points)\n"
   ]
  },
  {
   "cell_type": "markdown",
   "metadata": {},
   "source": [
    "## Logistic Regression"
   ]
  },
  {
   "cell_type": "code",
   "execution_count": 34,
   "metadata": {},
   "outputs": [
    {
     "name": "stdout",
     "output_type": "stream",
     "text": [
      "Logistic Regression Metrics: \n",
      "Precision score: 0.8250\n",
      "Recall score: 0.5789\n",
      "Accuracy score: 0.8835\n",
      "F1 score: 0.6804\n",
      "AUC Index: 0.8962\n",
      "\n",
      "Confusion Matrix: \n",
      "[[202   7]\n",
      " [ 24  33]]\n"
     ]
    },
    {
     "name": "stderr",
     "output_type": "stream",
     "text": [
      "/opt/conda/lib/python3.7/site-packages/sklearn/linear_model/_logistic.py:940: ConvergenceWarning: lbfgs failed to converge (status=1):\n",
      "STOP: TOTAL NO. of ITERATIONS REACHED LIMIT.\n",
      "\n",
      "Increase the number of iterations (max_iter) or scale the data as shown in:\n",
      "    https://scikit-learn.org/stable/modules/preprocessing.html\n",
      "Please also refer to the documentation for alternative solver options:\n",
      "    https://scikit-learn.org/stable/modules/linear_model.html#logistic-regression\n",
      "  extra_warning_msg=_LOGISTIC_SOLVER_CONVERGENCE_MSG)\n"
     ]
    },
    {
     "data": {
      "image/png": "[encoded data removed]",
      "text/plain": [
       "<Figure size 432x288 with 1 Axes>"
      ]
     },
     "metadata": {
      "needs_background": "light"
     },
     "output_type": "display_data"
    }
   ],
   "source": [
    "log_regression = LogisticRegression().fit(X_train, y_train)\n",
    "logistic_y_pred = log_regression.predict(X_test)\n",
    "print(\"Logistic Regression Metrics: \")\n",
    "log_probs = log_regression.predict_proba(X_test)\n",
    "log_AUC = roc_auc_score(y_test, log_probs[:, 1])\n",
    "print('Precision score: {:.4f}'.format(precision_score(y_test,logistic_y_pred)))\n",
    "print('Recall score: {:.4f}'.format(recall_score(y_test,logistic_y_pred)))\n",
    "print('Accuracy score: {:.4f}'.format(accuracy_score(y_test,logistic_y_pred)))\n",
    "print('F1 score: {:.4f}'.format(f1_score(y_test,logistic_y_pred)))\n",
    "print('AUC Index: {:.4f}\\n'.format(log_AUC))\n",
    "print('Confusion Matrix: ')\n",
    "print(confusion_matrix(y_test, logistic_y_pred))\n",
    "\n",
    "## ROC/AUC curve\n",
    "fpr, tpr, threshold = roc_curve(y_test,  log_probs[:, 1])\n",
    "plt.plot(fpr,tpr,label=\"auc=\"+str(log_AUC))\n",
    "plt.legend(loc=5)\n",
    "plt.ylabel('Recall')\n",
    "plt.xlabel('1-specificity')\n",
    "plt.title('ROC Curve')\n",
    "plt.show()"
   ]
  },
  {
   "cell_type": "markdown",
   "metadata": {},
   "source": [
    "## SVM"
   ]
  },
  {
   "cell_type": "code",
   "execution_count": 46,
   "metadata": {},
   "outputs": [
    {
     "name": "stdout",
     "output_type": "stream",
     "text": [
      "Best parameters:  {'C': 100, 'gamma': 0.0001}\n",
      "Precision score: 0.7451\n",
      "Recall score: 0.6667\n",
      "Accuracy score: 0.8797\n",
      "F1 score: 0.7037\n",
      "AUC Index: 0.8996\n",
      "\n",
      "Confusion Matrix: \n",
      "[[196  13]\n",
      " [ 19  38]]\n"
     ]
    },
    {
     "data": {
      "image/png": "[encoded data removed]",
      "text/plain": [
       "<Figure size 432x288 with 1 Axes>"
      ]
     },
     "metadata": {
      "needs_background": "light"
     },
     "output_type": "display_data"
    }
   ],
   "source": [
    "svm_kernel = SVC(kernel = 'rbf', probability=True)\n",
    "#define a list of parameters\n",
    "param_svm_kernel = {'C': [.0001,.001,.01,.1,1,10,100,1000,10000], 'gamma':[.0001,.001,.01,.1,1,10,100,1000,10000]}\n",
    "#apply grid search - tuning SVM\n",
    "grid_svm_kernel = GridSearchCV(svm_kernel, param_svm_kernel, cv=5, n_jobs=-1, scoring='roc_auc')\n",
    "grid_svm_kernel.fit(X_train, y_train)\n",
    "print('Best parameters: ',grid_svm_kernel.best_params_)\n",
    "\n",
    "## rbf SVM Metrics\n",
    "grid_rbf_svm_y_pred = grid_svm_kernel.predict(X_test)\n",
    "grid_rbf_svm_probs = grid_svm_kernel.predict_proba(X_test)\n",
    "grid_rbf_svm_AUC = roc_auc_score(y_test, grid_rbf_svm_probs[:, 1])\n",
    "\n",
    "print('Precision score: {:.4f}'.format(precision_score(y_test,grid_rbf_svm_y_pred)))\n",
    "print('Recall score: {:.4f}'.format(recall_score(y_test,grid_rbf_svm_y_pred)))\n",
    "print('Accuracy score: {:.4f}'.format(accuracy_score(y_test,grid_rbf_svm_y_pred)))\n",
    "print('F1 score: {:.4f}'.format(f1_score(y_test,grid_rbf_svm_y_pred)))\n",
    "print('AUC Index: {:.4f}\\n'.format(grid_rbf_svm_AUC))\n",
    "print('Confusion Matrix: ')\n",
    "print(confusion_matrix(y_test, grid_rbf_svm_y_pred))\n",
    "\n",
    "## ROC/AUC curve\n",
    "fpr, tpr, threshold = roc_curve(y_test,  grid_rbf_svm_probs[:, 1])\n",
    "plt.plot(fpr,tpr,label=\"auc=\"+str(grid_rbf_svm_AUC))\n",
    "plt.legend(loc=5)\n",
    "plt.ylabel('Recall')\n",
    "plt.xlabel('1-specificity')\n",
    "plt.title('ROC Curve')\n",
    "plt.show()"
   ]
  },
  {
   "cell_type": "markdown",
   "metadata": {},
   "source": [
    "## Decision Tree"
   ]
  },
  {
   "cell_type": "code",
   "execution_count": 44,
   "metadata": {},
   "outputs": [
    {
     "name": "stdout",
     "output_type": "stream",
     "text": [
      "Best parameters:  {'max_depth': 5, 'max_leaf_nodes': 9, 'min_samples_split': 2}\n",
      "Precision score: 0.8409\n",
      "Recall score: 0.6491\n",
      "Accuracy score: 0.8985\n",
      "F1 score: 0.7327\n",
      "AUC Index: 0.8290\n",
      "\n",
      "Confusion Matrix: \n",
      "[[202   7]\n",
      " [ 20  37]]\n"
     ]
    },
    {
     "data": {
      "image/png": "[encoded data removed]",
      "text/plain": [
       "<Figure size 432x288 with 1 Axes>"
      ]
     },
     "metadata": {
      "needs_background": "light"
     },
     "output_type": "display_data"
    }
   ],
   "source": [
    "opt_tree = DecisionTreeClassifier()\n",
    "params = {\"max_depth\": range(1,15),\n",
    "           \"min_samples_split\": range(2,20,1),\n",
    "           \"max_leaf_nodes\": range(2,10)}\n",
    "grid_tree = GridSearchCV(opt_tree,params,cv=5)\n",
    "grid_tree.fit(X_train,y_train)\n",
    "print('Best parameters: ', grid_tree.best_params_)\n",
    "\n",
    "grid_tree_y_pred = grid_tree.predict(X_test)\n",
    "grid_tree_probs = grid_tree.predict_proba(X_test)\n",
    "grid_tree_AUC = roc_auc_score(y_test, grid_tree_probs[:, 1])  \n",
    "\n",
    "print('Precision score: {:.4f}'.format(precision_score(y_test, grid_tree_y_pred)))\n",
    "print('Recall score: {:.4f}'.format(recall_score(y_test, grid_tree_y_pred)))\n",
    "print('Accuracy score: {:.4f}'.format(accuracy_score(y_test, grid_tree_y_pred)))\n",
    "print('F1 score: {:.4f}'.format(f1_score(y_test, grid_tree_y_pred)))\n",
    "print('AUC Index: {:.4f}\\n'.format(grid_tree_AUC))\n",
    "print('Confusion Matrix: ')\n",
    "print(confusion_matrix(y_test, grid_tree_y_pred))\n",
    "\n",
    "## ROC/AUC curve\n",
    "fpr, tpr, threshold = roc_curve(y_test,  grid_tree_probs[:, 1])\n",
    "plt.plot(fpr,tpr,label=\"auc=\"+str(grid_tree_AUC))\n",
    "plt.legend(loc=5)\n",
    "plt.ylabel('Recall')\n",
    "plt.xlabel('1-specificity')\n",
    "plt.title('ROC Curve')\n",
    "plt.show()"
   ]
  },
  {
   "cell_type": "code",
   "execution_count": 45,
   "metadata": {},
   "outputs": [
    {
     "name": "stdout",
     "output_type": "stream",
     "text": [
      "Precision score: 0.8261\n",
      "Recall score: 0.6667\n",
      "Accuracy score: 0.8985\n",
      "F1 score: 0.7379\n",
      "AUC Index: 0.9217\n",
      "\n",
      "Confusion Matrix: \n",
      "[[201   8]\n",
      " [ 19  38]]\n"
     ]
    },
    {
     "data": {
      "image/png": "[encoded data removed]",
      "text/plain": [
       "<Figure size 432x288 with 1 Axes>"
      ]
     },
     "metadata": {
      "needs_background": "light"
     },
     "output_type": "display_data"
    }
   ],
   "source": [
    "## Random Forest\n",
    "random_forest_clf = RandomForestClassifier()\n",
    "random_forest_clf.fit(X_train, y_train)\n",
    "## Random Forest Metrics\n",
    "rf_y_pred = random_forest_clf.predict(X_test)\n",
    "rf_probs = random_forest_clf.predict_proba(X_test)\n",
    "rf_AUC = roc_auc_score(y_test, rf_probs[:, 1])\n",
    "\n",
    "print('Precision score: {:.4f}'.format(precision_score(y_test, rf_y_pred)))\n",
    "print('Recall score: {:.4f}'.format(recall_score(y_test, rf_y_pred)))\n",
    "print('Accuracy score: {:.4f}'.format(accuracy_score(y_test, rf_y_pred)))\n",
    "print('F1 score: {:.4f}'.format(f1_score(y_test, rf_y_pred)))\n",
    "print('AUC Index: {:.4f}\\n'.format(rf_AUC))\n",
    "print('Confusion Matrix: ')\n",
    "print(confusion_matrix(y_test, rf_y_pred))\n",
    "\n",
    "## ROC/AUC curve\n",
    "fpr, tpr, threshold = roc_curve(y_test,  rf_probs[:, 1])\n",
    "plt.plot(fpr,tpr,label=\"auc=\"+str(rf_AUC))\n",
    "plt.legend(loc=5)\n",
    "plt.ylabel('Recall')\n",
    "plt.xlabel('1-specificity')\n",
    "plt.title('ROC Curve')\n",
    "plt.show()"
   ]
  }
 ],
 "metadata": {
  "kernelspec": {
   "display_name": "Python 3",
   "language": "python",
   "name": "python3"
  },
  "language_info": {
   "codemirror_mode": {
    "name": "ipython",
    "version": 3
   },
   "file_extension": ".py",
   "mimetype": "text/x-python",
   "name": "python",
   "nbconvert_exporter": "python",
   "pygments_lexer": "ipython3",
   "version": "3.7.3"
  }
 },
 "nbformat": 4,
 "nbformat_minor": 4
}
